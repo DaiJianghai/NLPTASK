{
 "cells": [
  {
   "cell_type": "code",
   "execution_count": 6,
   "metadata": {},
   "outputs": [],
   "source": [
    "import pandas as pd\n",
    "import json"
   ]
  },
  {
   "cell_type": "code",
   "execution_count": 4,
   "metadata": {},
   "outputs": [],
   "source": [
    "def read_clue_json(path):\n",
    "    \"\"\"Read json file in CLUE dataset\n",
    "    \"\"\"\n",
    "    lines = []\n",
    "    with open(path, 'r', encoding='utf-8') as f:\n",
    "        for line in f:\n",
    "            line = json.loads(line.strip())\n",
    "            text = line['text']\n",
    "            label_entities = line.get('label', None)\n",
    "            label = ['O'] * len(text)\n",
    "            if label_entities is not None:\n",
    "                for key, value in label_entities.items():\n",
    "                    for sub_name, sub_index in value.items():\n",
    "                        for start_index, end_index in sub_index:\n",
    "                            assert text[start_index:end_index + 1] == sub_name\n",
    "                            label[start_index] = 'B-' + key\n",
    "                            label[start_index + 1:end_index + 1] = ['I-' + key] * (len(sub_name) - 1)\n",
    "            lines.append({\"text\": text, \"label\": label})\n",
    "    return lines"
   ]
  },
  {
   "cell_type": "code",
   "execution_count": 7,
   "metadata": {},
   "outputs": [
    {
     "data": {
      "text/plain": [
       "(array([  44.,  204.,  411.,  667.,  505.,  607., 1019., 1885., 2707.,\n",
       "        2699.]),\n",
       " array([ 2. ,  6.8, 11.6, 16.4, 21.2, 26. , 30.8, 35.6, 40.4, 45.2, 50. ]),\n",
       " <BarContainer object of 10 artists>)"
      ]
     },
     "execution_count": 7,
     "metadata": {},
     "output_type": "execute_result"
    },
    {
     "data": {
      "image/png": "[encoded data removed]",
      "text/plain": [
       "<Figure size 432x288 with 1 Axes>"
      ]
     },
     "metadata": {
      "needs_background": "light"
     },
     "output_type": "display_data"
    }
   ],
   "source": [
    "import matplotlib.pyplot as plt\n",
    "file_path = r'D:\\DevelopmentProgress\\Project_VSCode\\deeplearning\\src\\task\\IE\\Pipleline\\NER\\Bert+LSTM+CRF\\pytorch-NER\\clue\\train.json'\n",
    "lines = read_clue_json(file_path)\n",
    "texts = []\n",
    "for line in lines:\n",
    "    texts.append(line['text'])\n",
    "\n",
    "# 绘制texts包含词语数量的直方图\n",
    "plt.hist(list(map(len, texts)))"
   ]
  },
  {
   "cell_type": "code",
   "execution_count": 8,
   "metadata": {},
   "outputs": [
    {
     "data": {
      "text/plain": [
       "<AxesSubplot:>"
      ]
     },
     "execution_count": 8,
     "metadata": {},
     "output_type": "execute_result"
    },
    {
     "data": {
      "image/png": "[encoded data removed]",
      "text/plain": [
       "<Figure size 432x288 with 1 Axes>"
      ]
     },
     "metadata": {
      "needs_background": "light"
     },
     "output_type": "display_data"
    }
   ],
   "source": [
    "# 统计texts中的词语数量占比\n",
    "texts_len = list(map(len, texts))\n",
    "texts_len_count = pd.value_counts(texts_len)\n",
    "texts_len_count.plot(kind='bar')"
   ]
  },
  {
   "cell_type": "code",
   "execution_count": 9,
   "metadata": {},
   "outputs": [
    {
     "data": {
      "text/plain": [
       "49    595\n",
       "45    581\n",
       "48    571\n",
       "43    564\n",
       "44    538\n",
       "42    537\n",
       "47    516\n",
       "50    513\n",
       "46    504\n",
       "41    487\n",
       "40    471\n",
       "39    395\n",
       "38    391\n",
       "37    338\n",
       "36    290\n",
       "35    259\n",
       "34    213\n",
       "22    208\n",
       "33    200\n",
       "32    193\n",
       "30    165\n",
       "17    159\n",
       "31    154\n",
       "20    141\n",
       "21    134\n",
       "28    133\n",
       "25    124\n",
       "18    121\n",
       "29    117\n",
       "16    114\n",
       "19    112\n",
       "27     97\n",
       "26     95\n",
       "23     91\n",
       "15     89\n",
       "24     82\n",
       "11     80\n",
       "14     77\n",
       "12     69\n",
       "13     62\n",
       "10     51\n",
       "9      37\n",
       "8      26\n",
       "6      16\n",
       "5      12\n",
       "7      10\n",
       "4       8\n",
       "3       7\n",
       "2       1\n",
       "dtype: int64"
      ]
     },
     "execution_count": 9,
     "metadata": {},
     "output_type": "execute_result"
    }
   ],
   "source": [
    "texts_len_count"
   ]
  }
 ],
 "metadata": {
  "interpreter": {
   "hash": "12648cd03e9b8cb938ff511672062539752d7c15a7521866f92e1f90f92eb1a9"
  },
  "kernelspec": {
   "display_name": "Python 3.8.13 ('work')",
   "language": "python",
   "name": "python3"
  },
  "language_info": {
   "codemirror_mode": {
    "name": "ipython",
    "version": 3
   },
   "file_extension": ".py",
   "mimetype": "text/x-python",
   "name": "python",
   "nbconvert_exporter": "python",
   "pygments_lexer": "ipython3",
   "version": "3.8.13"
  },
  "orig_nbformat": 4
 },
 "nbformat": 4,
 "nbformat_minor": 2
}
