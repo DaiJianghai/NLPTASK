{
 "cells": [
  {
   "cell_type": "code",
   "execution_count": 1,
   "metadata": {},
   "outputs": [],
   "source": [
    "import torch\n",
    "import numpy as np\n",
    "import torch.nn as nn\n",
    "import torch.optim as optim\n",
    "import matplotlib.pyplot as plt\n",
    "from torch.utils.data import Dataset, DataLoader, TensorDataset\n",
    "\n",
    "dtype = torch.FloatTensor\n",
    "device = torch.device(\"cuda\" if torch.cuda.is_available() else \"cpu\")"
   ]
  },
  {
   "cell_type": "markdown",
   "metadata": {},
   "source": [
    "# 无优化的简单版本 Skip-Gram"
   ]
  },
  {
   "cell_type": "markdown",
   "metadata": {},
   "source": [
    "# 文本预处理"
   ]
  },
  {
   "cell_type": "code",
   "execution_count": 3,
   "metadata": {},
   "outputs": [],
   "source": [
    "# 文本预处理\n",
    "sentences = [\"jack like dog\", \"jack like cat\", \"jack like animal\",\n",
    "  \"dog cat animal\", \"banana apple cat dog like\", \"dog fish milk like\",\n",
    "  \"dog cat animal like\", \"jack like apple\", \"apple like\", \"jack like banana\",\n",
    "  \"apple banana jack movie book music like\", \"cat dog hate\", \"cat dog like\"]\n",
    "\n",
    "word_sequence = \" \".join(sentences).split() # ['jack', 'like', 'dog', 'jack', 'like', 'cat', 'animal',...]\n",
    "vocab = list(set(word_sequence)) # build words vocabulary\n",
    "word2idx = {w: i for i, w in enumerate(vocab)} # {'jack':0, 'like':1,...}"
   ]
  },
  {
   "cell_type": "code",
   "execution_count": 9,
   "metadata": {},
   "outputs": [],
   "source": [
    "# Word2Vec Parameters\n",
    "batch_size = 8\n",
    "embedding_size = 2  # 2 dim vector represent one word\n",
    "C = 2 # window size\n",
    "voc_size = len(vocab)"
   ]
  },
  {
   "cell_type": "code",
   "execution_count": 10,
   "metadata": {},
   "outputs": [],
   "source": [
    "# 准备数据\n",
    "skip_grams = []\n",
    "for idx in range(C, len(word_sequence) - C):\n",
    "  center = word2idx[word_sequence[idx]] # center word\n",
    "  context_idx = list(range(idx - C, idx)) + list(range(idx + 1, idx + C + 1)) # context word idx\n",
    "  context = [word2idx[word_sequence[i]] for i in context_idx]\n",
    "  for w in context:\n",
    "    skip_grams.append([center, w])\n",
    "\n",
    "# 2.\n",
    "def make_data(skip_grams):\n",
    "  input_data = []\n",
    "  output_data = []\n",
    "  for i in range(len(skip_grams)):\n",
    "    input_data.append(np.eye(voc_size)[skip_grams[i][0]])\n",
    "    output_data.append(skip_grams[i][1])\n",
    "  return input_data, output_data\n",
    "\n",
    "# 3.\n",
    "input_data, output_data = make_data(skip_grams)\n",
    "input_data, output_data = torch.Tensor(input_data), torch.LongTensor(output_data)\n",
    "dataset = TensorDataset(input_data, output_data)\n",
    "loader = DataLoader(dataset, batch_size, True)"
   ]
  },
  {
   "cell_type": "code",
   "execution_count": 19,
   "metadata": {},
   "outputs": [],
   "source": [
    "# Model\n",
    "class Word2Vec(nn.Module):\n",
    "  def __init__(self):\n",
    "    super(Word2Vec, self).__init__()\n",
    "\n",
    "    # W and V is not Traspose relationship\n",
    "    self.W = nn.Parameter(torch.randn(voc_size, embedding_size))\n",
    "    self.V = nn.Parameter(torch.randn(embedding_size, voc_size))\n",
    "\n",
    "  def forward(self, X):\n",
    "    # X : [batch_size, voc_size] one-hot\n",
    "    # torch.mm only for 2 dim matrix, but torch.matmul can use to any dim\n",
    "    hidden_layer = torch.matmul(X, self.W) # hidden_layer : [batch_size, embedding_size]\n",
    "    output_layer = torch.matmul(hidden_layer, self.V) # output_layer : [batch_size, voc_size]\n",
    "    return output_layer\n",
    "\n",
    "model = Word2Vec().to(device)\n",
    "criterion = nn.CrossEntropyLoss().to(device)\n",
    "optimizer = optim.Adam(model.parameters(), lr=1e-3)"
   ]
  },
  {
   "cell_type": "code",
   "execution_count": null,
   "metadata": {},
   "outputs": [],
   "source": [
    "# Training\n",
    "for epoch in range(2000):\n",
    "  for i, (batch_x, batch_y) in enumerate(loader):\n",
    "    batch_x = batch_x.to(device)\n",
    "    batch_y = batch_y.to(device)\n",
    "    pred = model(batch_x)\n",
    "    loss = criterion(pred, batch_y)\n",
    "    if (epoch + 1) % 1000 == 0:\n",
    "      print(epoch + 1, i, loss.item())\n",
    "    \n",
    "    optimizer.zero_grad()\n",
    "    loss.backward()\n",
    "    optimizer.step()"
   ]
  },
  {
   "cell_type": "code",
   "execution_count": 24,
   "metadata": {},
   "outputs": [
    {
     "data": {
      "image/png": "[encoded data removed]",
      "text/plain": [
       "<Figure size 432x288 with 1 Axes>"
      ]
     },
     "metadata": {
      "needs_background": "light"
     },
     "output_type": "display_data"
    }
   ],
   "source": [
    "W, WT = model.parameters()\n",
    "for i, label in enumerate(vocab):\n",
    "  x,y = float(W[i][0]), float(W[i][1])\n",
    "  plt.scatter(x, y)\n",
    "  plt.annotate(label, xy=(x, y), xytext=(5, 2), textcoords='offset points', ha='right', va='bottom')\n",
    "plt.show()"
   ]
  },
  {
   "cell_type": "markdown",
   "metadata": {},
   "source": [
    "# Pytorch实现 使用负采样"
   ]
  },
  {
   "cell_type": "code",
   "execution_count": 25,
   "metadata": {},
   "outputs": [],
   "source": [
    "import torch\n",
    "import torch.nn as nn\n",
    "import torch.nn.functional as F\n",
    "import torch.utils.data as tud\n",
    "\n",
    "from collections import Counter\n",
    "import numpy as np\n",
    "import random\n",
    "\n",
    "from sklearn.metrics.pairwise import cosine_similarity\n",
    "\n",
    "random.seed(1)\n",
    "np.random.seed(1)\n",
    "torch.manual_seed(1)\n",
    "\n",
    "C = 3 # context window\n",
    "K = 15 # number of negative samples\n",
    "epochs = 2\n",
    "MAX_VOCAB_SIZE = 10000\n",
    "EMBEDDING_SIZE = 100\n",
    "batch_size = 32\n",
    "lr = 0.2"
   ]
  },
  {
   "cell_type": "code",
   "execution_count": 29,
   "metadata": {},
   "outputs": [],
   "source": [
    "# read file\n",
    "with open('./data/text8.train.txt') as f:\n",
    "    text = f.read() # 得到文本内容\n",
    "\n",
    "text = text.lower().split() #　分割成单词列表\n",
    "vocab_dict = dict(Counter(text).most_common(MAX_VOCAB_SIZE - 1)) # 得到单词字典表，key是单词，value是次数\n",
    "vocab_dict['<UNK>'] = len(text) - np.sum(list(vocab_dict.values())) # 把不常用的单词都编码为\"<UNK>\"， 此处市是 频次为1000的词\n",
    "word2idx = {word:i for i, word in enumerate(vocab_dict.keys())}\n",
    "idx2word = {i:word for i, word in enumerate(vocab_dict.keys())}\n",
    "word_counts = np.array([count for count in vocab_dict.values()], dtype=np.float32)\n",
    "word_freqs = word_counts / np.sum(word_counts)\n",
    "word_freqs = word_freqs ** (3./4.)"
   ]
  },
  {
   "cell_type": "code",
   "execution_count": 39,
   "metadata": {},
   "outputs": [],
   "source": [
    "# 构造数据集 len 为文本单词数量 get_item需要获取中心词 和 背景词 以及负采样词\n",
    "class WordEmbeddingDataset(tud.Dataset):\n",
    "    def __init__(self, text, word2idx, word_freqs):\n",
    "        ''' text: a list of words, all text from the training dataset\n",
    "            word2idx: the dictionary from word to index\n",
    "            word_freqs: the frequency of each word\n",
    "        '''\n",
    "        super(WordEmbeddingDataset, self).__init__() # #通过父类初始化模型，然后重写两个方法\n",
    "        self.text_encoded = [word2idx.get(word, word2idx['<UNK>']) for word in text] # 把单词数字化表示。如果不在词典中，也表示为unk\n",
    "        self.text_encoded = torch.LongTensor(self.text_encoded) # nn.Embedding需要传入LongTensor类型\n",
    "        self.word2idx = word2idx\n",
    "        self.word_freqs = torch.Tensor(word_freqs)\n",
    "        \n",
    "        \n",
    "    def __len__(self):\n",
    "        return len(self.text_encoded) # 返回所有单词的总数，即item的总数\n",
    "    \n",
    "    def __getitem__(self, idx):\n",
    "        ''' 这个function返回以下数据用于训练\n",
    "            - 中心词\n",
    "            - 这个单词附近的positive word\n",
    "            - 随机采样的K个单词作为negative word\n",
    "        '''\n",
    "        center_words = self.text_encoded[idx] # 取得中心词\n",
    "        pos_indices = list(range(idx - C, idx)) + list(range(idx + 1, idx + C + 1)) # 先取得中心左右各C个词的索引\n",
    "        pos_indices = [i % len(self.text_encoded) for i in pos_indices] # 为了避免索引越界，所以进行取余处理\n",
    "        pos_words = self.text_encoded[pos_indices] # tensor(list)\n",
    "        \n",
    "        neg_words = torch.multinomial(self.word_freqs, K * pos_words.shape[0], True)\n",
    "        # torch.multinomial作用是对self.word_freqs做K * pos_words.shape[0]次取值，输出的是self.word_freqs对应的下标\n",
    "        # 取样方式采用有放回的采样，并且self.word_freqs数值越大，取样概率越大\n",
    "        # 每采样一个正确的单词(positive word)，就采样K个错误的单词(negative word)，pos_words.shape[0]是正确单词数量\n",
    "        \n",
    "        # while 循环是为了保证 neg_words中不能包含背景词\n",
    "        while len(set(pos_indices) & set(neg_words.numpy().tolist())) > 0:\n",
    "            neg_words = torch.multinomial(self.word_freqs, K * pos_words.shape[0], True)\n",
    "\n",
    "        return center_words, pos_words, neg_words\n",
    "dataset = WordEmbeddingDataset(text, word2idx, word_freqs)\n",
    "dataloader = tud.DataLoader(dataset, batch_size, shuffle=True)"
   ]
  },
  {
   "cell_type": "code",
   "execution_count": 40,
   "metadata": {},
   "outputs": [
    {
     "data": {
      "text/plain": [
       "(tensor(4813),\n",
       " tensor([  50, 9999,  393, 3139,   11,    5]),\n",
       " tensor([ 899,    6, 6510,   46,  224, 9998, 4840, 1604,  671, 3631, 9999,    6,\n",
       "         3748, 4352,  264, 1127,  348, 8488,   38, 3089, 2315, 1026,   57, 2959,\n",
       "          314, 5618, 2434,  120, 9999,   38,   37, 4345,  311, 1039, 7227, 3657,\n",
       "           13, 3005, 9999,  191, 1944, 1705, 7465,  665, 2772, 4282,   63,  351,\n",
       "         6303, 2229, 6091,   10, 7591, 3934, 4744, 1582, 7354, 3633, 1149,  511,\n",
       "           14,  126, 4361, 7679, 8641,    5,  146,  222, 9846, 5108,    8,  413,\n",
       "         1986, 5962, 1580, 9999, 2053,   14,   42,   91,  603,  154, 2729, 9117,\n",
       "           52,  964, 9999,  286,   50,  888]))"
      ]
     },
     "execution_count": 40,
     "metadata": {},
     "output_type": "execute_result"
    }
   ],
   "source": [
    "dataset.__getitem__(0)"
   ]
  },
  {
   "cell_type": "code",
   "execution_count": 46,
   "metadata": {},
   "outputs": [],
   "source": [
    "# model\n",
    "class EmbeddingModel(nn.Module):\n",
    "    def __init__(self, vocab_size, embed_size):\n",
    "        super(EmbeddingModel, self).__init__()\n",
    "        \n",
    "        self.vocab_size = vocab_size\n",
    "        self.embed_size = embed_size\n",
    "        \n",
    "        self.in_embed = nn.Embedding(self.vocab_size, self.embed_size) # 作为中心词的embedding\n",
    "        self.out_embed = nn.Embedding(self.vocab_size, self.embed_size) # 作为背景词的embedding\n",
    "        \n",
    "    def forward(self, input_labels, pos_labels, neg_labels):\n",
    "        ''' input_labels: center words, [batch_size]\n",
    "            pos_labels: positive words, [batch_size, (window_size * 2)]\n",
    "            neg_labels：negative words, [batch_size, (window_size * 2 * K)]\n",
    "            \n",
    "            return: loss, [batch_size]\n",
    "        '''\n",
    "        input_embedding = self.in_embed(input_labels) # [batch_size, embed_size]\n",
    "        pos_embedding = self.out_embed(pos_labels)# [batch_size, (window * 2), embed_size]\n",
    "        neg_embedding = self.out_embed(neg_labels) # [batch_size, (window * 2 * K), embed_size]\n",
    "        \n",
    "        input_embedding = input_embedding.unsqueeze(2) # [batch_size, embed_size, 1]\n",
    "        \n",
    "        pos_dot = torch.bmm(pos_embedding, input_embedding) # [batch_size, (window * 2), 1], 这一步要求和背景词接近\n",
    "        pos_dot = pos_dot.squeeze(2) # [batch_size, (window * 2)]\n",
    "        \n",
    "        neg_dot = torch.bmm(neg_embedding, -input_embedding) # [batch_size, (window * 2 * K), 1]，这一步取负号要求和负采样词远离\n",
    "        neg_dot = neg_dot.squeeze(2) # batch_size, (window * 2 * K)]\n",
    "        \n",
    "        log_pos = F.logsigmoid(pos_dot).sum(1) # .sum()结果只为一个数，.sum(1)结果是一维的张量\n",
    "        log_neg = F.logsigmoid(neg_dot).sum(1)\n",
    "        \n",
    "        loss = log_pos + log_neg  # 理解成似然 = log(positive) + log(-negative)\n",
    "        \n",
    "        return -loss # 最小化\n",
    "    \n",
    "    def input_embedding(self):\n",
    "        return self.in_embed.weight.detach().cpu().numpy()\n",
    "\n",
    "model = EmbeddingModel(MAX_VOCAB_SIZE, EMBEDDING_SIZE)\n",
    "optimizer = torch.optim.Adam(model.parameters(), lr=1e-3)"
   ]
  },
  {
   "cell_type": "code",
   "execution_count": 43,
   "metadata": {},
   "outputs": [],
   "source": [
    "from torch.utils.tensorboard import SummaryWriter\n",
    "writer = SummaryWriter()"
   ]
  },
  {
   "cell_type": "code",
   "execution_count": 44,
   "metadata": {},
   "outputs": [
    {
     "ename": "TypeError",
     "evalue": "can't convert cuda:0 device type tensor to numpy. Use Tensor.cpu() to copy the tensor to host memory first.",
     "output_type": "error",
     "traceback": [
      "\u001b[1;31m---------------------------------------------------------------------------\u001b[0m",
      "\u001b[1;31mTypeError\u001b[0m                                 Traceback (most recent call last)",
      "\u001b[1;32m~\\AppData\\Local\\Temp/ipykernel_3304/1683031634.py\u001b[0m in \u001b[0;36m<module>\u001b[1;34m\u001b[0m\n\u001b[0;32m     17\u001b[0m         \u001b[1;31m#     print('epoch', e, 'iteration', i, loss.item())\u001b[0m\u001b[1;33m\u001b[0m\u001b[1;33m\u001b[0m\u001b[1;33m\u001b[0m\u001b[0m\n\u001b[0;32m     18\u001b[0m \u001b[1;33m\u001b[0m\u001b[0m\n\u001b[1;32m---> 19\u001b[1;33m \u001b[0membedding_weights\u001b[0m \u001b[1;33m=\u001b[0m \u001b[0mmodel\u001b[0m\u001b[1;33m.\u001b[0m\u001b[0minput_embedding\u001b[0m\u001b[1;33m(\u001b[0m\u001b[1;33m)\u001b[0m\u001b[1;33m\u001b[0m\u001b[1;33m\u001b[0m\u001b[0m\n\u001b[0m\u001b[0;32m     20\u001b[0m \u001b[0mtorch\u001b[0m\u001b[1;33m.\u001b[0m\u001b[0msave\u001b[0m\u001b[1;33m(\u001b[0m\u001b[0mmodel\u001b[0m\u001b[1;33m.\u001b[0m\u001b[0mstate_dict\u001b[0m\u001b[1;33m(\u001b[0m\u001b[1;33m)\u001b[0m\u001b[1;33m,\u001b[0m \u001b[1;34m\"embedding-{}.pt\"\u001b[0m\u001b[1;33m.\u001b[0m\u001b[0mformat\u001b[0m\u001b[1;33m(\u001b[0m\u001b[0mEMBEDDING_SIZE\u001b[0m\u001b[1;33m)\u001b[0m\u001b[1;33m)\u001b[0m\u001b[1;33m\u001b[0m\u001b[1;33m\u001b[0m\u001b[0m\n",
      "\u001b[1;32m~\\AppData\\Local\\Temp/ipykernel_3304/3004087855.py\u001b[0m in \u001b[0;36minput_embedding\u001b[1;34m(self)\u001b[0m\n\u001b[0;32m     37\u001b[0m \u001b[1;33m\u001b[0m\u001b[0m\n\u001b[0;32m     38\u001b[0m     \u001b[1;32mdef\u001b[0m \u001b[0minput_embedding\u001b[0m\u001b[1;33m(\u001b[0m\u001b[0mself\u001b[0m\u001b[1;33m)\u001b[0m\u001b[1;33m:\u001b[0m\u001b[1;33m\u001b[0m\u001b[1;33m\u001b[0m\u001b[0m\n\u001b[1;32m---> 39\u001b[1;33m         \u001b[1;32mreturn\u001b[0m \u001b[0mself\u001b[0m\u001b[1;33m.\u001b[0m\u001b[0min_embed\u001b[0m\u001b[1;33m.\u001b[0m\u001b[0mweight\u001b[0m\u001b[1;33m.\u001b[0m\u001b[0mdetach\u001b[0m\u001b[1;33m(\u001b[0m\u001b[1;33m)\u001b[0m\u001b[1;33m.\u001b[0m\u001b[0mnumpy\u001b[0m\u001b[1;33m(\u001b[0m\u001b[1;33m)\u001b[0m\u001b[1;33m\u001b[0m\u001b[1;33m\u001b[0m\u001b[0m\n\u001b[0m\u001b[0;32m     40\u001b[0m \u001b[1;33m\u001b[0m\u001b[0m\n\u001b[0;32m     41\u001b[0m \u001b[0mmodel\u001b[0m \u001b[1;33m=\u001b[0m \u001b[0mEmbeddingModel\u001b[0m\u001b[1;33m(\u001b[0m\u001b[0mMAX_VOCAB_SIZE\u001b[0m\u001b[1;33m,\u001b[0m \u001b[0mEMBEDDING_SIZE\u001b[0m\u001b[1;33m)\u001b[0m\u001b[1;33m\u001b[0m\u001b[1;33m\u001b[0m\u001b[0m\n",
      "\u001b[1;31mTypeError\u001b[0m: can't convert cuda:0 device type tensor to numpy. Use Tensor.cpu() to copy the tensor to host memory first."
     ]
    }
   ],
   "source": [
    "device = torch.device('cuda' if torch.cuda.is_available() else 'cpu')\n",
    "model.to(device)\n",
    "for e in range(1):\n",
    "    for i, (input_labels, pos_labels, neg_labels) in enumerate(dataloader):\n",
    "        input_labels = input_labels.long().to(device)\n",
    "        pos_labels = pos_labels.long().to(device)\n",
    "        neg_labels = neg_labels.long().to(device)\n",
    "\n",
    "        optimizer.zero_grad()\n",
    "        loss = model(input_labels, pos_labels, neg_labels).mean()\n",
    "        loss.backward() \n",
    "\n",
    "        optimizer.step()\n",
    "\n",
    "        writer.add_scalar('Loss/train', loss.item(), i)\n",
    "        # if i % 100 == 0:\n",
    "        #     print('epoch', e, 'iteration', i, loss.item())\n",
    "\n",
    "embedding_weights = model.input_embedding()\n",
    "torch.save(model.state_dict(), \"embedding-{}.pt\".format(EMBEDDING_SIZE))"
   ]
  },
  {
   "cell_type": "code",
   "execution_count": null,
   "metadata": {},
   "outputs": [],
   "source": [
    "# 寻找相似的单词\n",
    "import scipy\n",
    "def find_nearest(word):\n",
    "    index = word2idx[word]\n",
    "    embedding = embedding_weights[index]\n",
    "    cos_dis = np.array([scipy.spatial.distance.cosine(e, embedding) for e in embedding_weights])\n",
    "    return [idx2word[i] for i in cos_dis.argsort()[:10]]\n",
    "for word in [\"two\", \"america\", \"computer\"]:\n",
    "    print(word, find_nearest(word))\n",
    "# 输出\n",
    "# two ['two', 'zero', 'four', 'one', 'six', 'five', 'three', 'nine', 'eight', 'seven']\n",
    "# america ['america', 'states', 'japan', 'china', 'usa', 'west', 'africa', 'italy', 'united', 'kingdom']\n",
    "# computer ['computer', 'machine', 'earth', 'pc', 'game', 'writing', 'board', 'result', 'code', 'website']"
   ]
  }
 ],
 "metadata": {
  "interpreter": {
   "hash": "12648cd03e9b8cb938ff511672062539752d7c15a7521866f92e1f90f92eb1a9"
  },
  "kernelspec": {
   "display_name": "Python 3.8.13 ('work')",
   "language": "python",
   "name": "python3"
  },
  "language_info": {
   "codemirror_mode": {
    "name": "ipython",
    "version": 3
   },
   "file_extension": ".py",
   "mimetype": "text/x-python",
   "name": "python",
   "nbconvert_exporter": "python",
   "pygments_lexer": "ipython3",
   "version": "3.8.13"
  },
  "orig_nbformat": 4
 },
 "nbformat": 4,
 "nbformat_minor": 2
}
