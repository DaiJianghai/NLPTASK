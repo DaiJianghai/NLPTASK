{
 "cells": [
  {
   "cell_type": "code",
   "execution_count": 1,
   "source": [
    "import jieba"
   ],
   "outputs": [],
   "metadata": {}
  },
  {
   "cell_type": "code",
   "execution_count": null,
   "source": [
    "# 加载语料\r\n",
    "def load_corpus(path):\r\n",
    "    with open(path, 'r', encoding='gbk') as f:\r\n",
    "        lines = f.readlines()\r\n",
    "    return lines\r\n",
    "# jieba加载停用词库\r\n",
    "def load_stop_words(path):\r\n",
    "    with open(path, 'r', encoding='gbk') as f:\r\n",
    "        lines = f.readlines()\r\n",
    "    stop_words = [line.strip() for line in lines]\r\n",
    "    return stop_words\r\n",
    "# 使用jieba加载词典\r\n",
    "def load_jieba_dict(path):\r\n",
    "    jieba.load_userdict(path)\r\n",
    "\r\n"
   ],
   "outputs": [],
   "metadata": {}
  },
  {
   "cell_type": "code",
   "execution_count": null,
   "source": [],
   "outputs": [],
   "metadata": {}
  }
 ],
 "metadata": {
  "orig_nbformat": 4,
  "language_info": {
   "name": "python",
   "version": "3.8.13",
   "mimetype": "text/x-python",
   "codemirror_mode": {
    "name": "ipython",
    "version": 3
   },
   "pygments_lexer": "ipython3",
   "nbconvert_exporter": "python",
   "file_extension": ".py"
  },
  "kernelspec": {
   "name": "python3",
   "display_name": "Python 3.8.12 64-bit"
  },
  "interpreter": {
   "hash": "d7a069887ceddedd53b91ee175883fc413eac22aba997dd3bd9b8e559ea850da"
  }
 },
 "nbformat": 4,
 "nbformat_minor": 2
}