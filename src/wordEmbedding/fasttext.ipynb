{
 "cells": [
  {
   "cell_type": "code",
   "execution_count": 1,
   "source": [
    "from sklearn.model_selection import train_test_split\r\n",
    "import fasttext\r\n",
    "import pandas as pd\r\n",
    "import os"
   ],
   "outputs": [],
   "metadata": {}
  },
  {
   "cell_type": "markdown",
   "source": [
    "# fasttext 作文本分类"
   ],
   "metadata": {}
  },
  {
   "cell_type": "code",
   "execution_count": 5,
   "source": [
    "model = fasttext.train_supervised(r'D:\\DevelopmentProgress\\Project_VSCode\\deeplearning\\src\\wordEmbedding\\data\\cooking.stackexchange\\train.txt', lr=0.1, dim=100, ws=5, epoch=25, minCount=1,neg=5, wordNgrams=3, bucket=2000000, thread=4, lrUpdateRate=100, t=1e-4)"
   ],
   "outputs": [],
   "metadata": {}
  },
  {
   "cell_type": "code",
   "execution_count": 6,
   "source": [
    "model.test(r\"D:\\DevelopmentProgress\\Project_VSCode\\deeplearning\\src\\wordEmbedding\\data\\cooking.stackexchange\\valid.txt\") "
   ],
   "outputs": [
    {
     "output_type": "execute_result",
     "data": {
      "text/plain": [
       "(3404, 0.23149236192714454, 0.10022894937674892)"
      ]
     },
     "metadata": {},
     "execution_count": 6
    }
   ],
   "metadata": {}
  },
  {
   "cell_type": "code",
   "execution_count": 8,
   "source": [
    "# 自动调参\r\n",
    "model = fasttext.train_supervised(input=r'D:\\DevelopmentProgress\\Project_VSCode\\deeplearning\\src\\wordEmbedding\\data\\cooking.stackexchange\\train.txt', autotuneValidationFile=r'D:\\DevelopmentProgress\\Project_VSCode\\deeplearning\\src\\wordEmbedding\\data\\cooking.stackexchange\\valid.txt', autotuneDuration=600)"
   ],
   "outputs": [],
   "metadata": {}
  },
  {
   "cell_type": "code",
   "execution_count": 9,
   "source": [
    "model.test(r\"D:\\DevelopmentProgress\\Project_VSCode\\deeplearning\\src\\wordEmbedding\\data\\cooking.stackexchange\\valid.txt\") #"
   ],
   "outputs": [
    {
     "output_type": "execute_result",
     "data": {
      "text/plain": [
       "(3404, 0.48384253819036427, 0.20948867972526075)"
      ]
     },
     "metadata": {},
     "execution_count": 9
    }
   ],
   "metadata": {}
  },
  {
   "cell_type": "code",
   "execution_count": 11,
   "source": [
    "model.predict(\"Which baking dish is best to bake a banana bread ?\", k=-1, threshold=0.5)\r\n",
    "model.save_model(\"./model_cooking.bin\")"
   ],
   "outputs": [],
   "metadata": {}
  },
  {
   "cell_type": "code",
   "execution_count": null,
   "source": [
    "model = fasttext.load_model(\"./model_cooking.bin\")"
   ],
   "outputs": [],
   "metadata": {}
  },
  {
   "cell_type": "markdown",
   "source": [
    "# 直接获取词向量 https://fasttext.cc/docs/en/crawl-vectors.html 可选择语言"
   ],
   "metadata": {}
  },
  {
   "cell_type": "markdown",
   "source": [
    "# 训练词向量"
   ],
   "metadata": {}
  },
  {
   "cell_type": "code",
   "execution_count": 23,
   "source": [
    "model = fasttext.train_unsupervised(r'D:\\DevelopmentProgress\\Project_VSCode\\deeplearning\\src\\wordEmbedding\\data\\cooking.stackexchange\\valid.txt')"
   ],
   "outputs": [],
   "metadata": {}
  },
  {
   "cell_type": "code",
   "execution_count": 24,
   "source": [
    "model.get_nearest_neighbors('sports')"
   ],
   "outputs": [
    {
     "output_type": "execute_result",
     "data": {
      "text/plain": [
       "[(0.9998892545700073, 'liquid'),\n",
       " (0.9998869299888611, 'taste?'),\n",
       " (0.9998834729194641, 'started'),\n",
       " (0.9998815655708313, 'black'),\n",
       " (0.9998811483383179, 'mushrooms'),\n",
       " (0.9998803734779358, 'store'),\n",
       " (0.9998802542686462, 'important'),\n",
       " (0.9998787045478821, 'brine'),\n",
       " (0.9998776316642761, 'roasted'),\n",
       " (0.9998772740364075, 'mushroom')]"
      ]
     },
     "metadata": {},
     "execution_count": 24
    }
   ],
   "metadata": {}
  }
 ],
 "metadata": {
  "orig_nbformat": 4,
  "language_info": {
   "name": "python",
   "version": "3.8.13",
   "mimetype": "text/x-python",
   "codemirror_mode": {
    "name": "ipython",
    "version": 3
   },
   "pygments_lexer": "ipython3",
   "nbconvert_exporter": "python",
   "file_extension": ".py"
  },
  "kernelspec": {
   "name": "python3",
   "display_name": "Python 3.8.12 64-bit"
  },
  "interpreter": {
   "hash": "d7a069887ceddedd53b91ee175883fc413eac22aba997dd3bd9b8e559ea850da"
  }
 },
 "nbformat": 4,
 "nbformat_minor": 2
}